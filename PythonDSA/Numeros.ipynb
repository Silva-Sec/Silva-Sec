{
 "cells": [
  {
   "cell_type": "markdown",
   "id": "53eb55a0-a683-4057-bb56-399377e9476d",
   "metadata": {},
   "source": [
    "Aqui está um exemplo de código Python que cria uma lista com números de 1 a 100 e exibe somente os números que são divisíveis por 4:"
   ]
  },
  {
   "cell_type": "code",
   "execution_count": 1,
   "id": "08d3ed44-bad5-4bdc-973f-262802f0e448",
   "metadata": {},
   "outputs": [
    {
     "name": "stdout",
     "output_type": "stream",
     "text": [
      "[4, 8, 12, 16, 20, 24, 28, 32, 36, 40, 44, 48, 52, 56, 60, 64, 68, 72, 76, 80, 84, 88, 92, 96, 100]\n"
     ]
    }
   ],
   "source": [
    "# Cria uma lista de números de 1 a 100\n",
    "numeros = list(range(1, 101))\n",
    "\n",
    "# Filtra a lista para incluir apenas os números divisíveis por 4\n",
    "divisiveis_por_4 = [num for num in numeros if num % 4 == 0]\n",
    "\n",
    "# Exibe os números divisíveis por 4\n",
    "print(divisiveis_por_4)\n"
   ]
  },
  {
   "cell_type": "markdown",
   "id": "a6225ffb-4b5f-4f5b-bea7-56c7cba47965",
   "metadata": {},
   "source": [
    "Aqui está um exemplo de código Python que cria uma lista com números de 1 a 100 e exibe somente os números que são divisíveis por 4, usando list comprehension"
   ]
  },
  {
   "cell_type": "code",
   "execution_count": 2,
   "id": "9b744eb9-d531-48c0-8e54-cf9ce7dcd0e2",
   "metadata": {},
   "outputs": [
    {
     "name": "stdout",
     "output_type": "stream",
     "text": [
      "[4, 8, 12, 16, 20, 24, 28, 32, 36, 40, 44, 48, 52, 56, 60, 64, 68, 72, 76, 80, 84, 88, 92, 96, 100]\n"
     ]
    }
   ],
   "source": [
    "# Cria uma lista de números de 1 a 100\n",
    "numeros = list(range(1, 101))\n",
    "\n",
    "# Filtra a lista para incluir apenas os números divisíveis por 4 usando list comprehension\n",
    "divisiveis_por_4 = [num for num in numeros if num % 4 == 0]\n",
    "\n",
    "# Exibe os números divisíveis por 4\n",
    "print(divisiveis_por_4)"
   ]
  },
  {
   "cell_type": "code",
   "execution_count": null,
   "id": "e5bca982-f233-49e5-b7e1-cbe7b2a864f3",
   "metadata": {},
   "outputs": [],
   "source": []
  }
 ],
 "metadata": {
  "kernelspec": {
   "display_name": "Python 3 (ipykernel)",
   "language": "python",
   "name": "python3"
  },
  "language_info": {
   "codemirror_mode": {
    "name": "ipython",
    "version": 3
   },
   "file_extension": ".py",
   "mimetype": "text/x-python",
   "name": "python",
   "nbconvert_exporter": "python",
   "pygments_lexer": "ipython3",
   "version": "3.12.4"
  }
 },
 "nbformat": 4,
 "nbformat_minor": 5
}
